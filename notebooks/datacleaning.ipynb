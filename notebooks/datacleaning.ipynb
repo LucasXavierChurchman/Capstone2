{
 "cells": [
  {
   "cell_type": "code",
   "execution_count": 2,
   "metadata": {},
   "outputs": [
    {
     "ename": "ModuleNotFoundError",
     "evalue": "No module named 'datapipeline'",
     "output_type": "error",
     "traceback": [
      "\u001b[0;31m---------------------------------------------------------------------------\u001b[0m",
      "\u001b[0;31mModuleNotFoundError\u001b[0m                       Traceback (most recent call last)",
      "\u001b[0;32m<ipython-input-2-7abf4d885084>\u001b[0m in \u001b[0;36m<module>\u001b[0;34m\u001b[0m\n\u001b[0;32m----> 1\u001b[0;31m \u001b[0;32mfrom\u001b[0m \u001b[0mdatapipeline\u001b[0m \u001b[0;32mimport\u001b[0m \u001b[0mpipeline\u001b[0m\u001b[0;34m\u001b[0m\u001b[0;34m\u001b[0m\u001b[0m\n\u001b[0m\u001b[1;32m      2\u001b[0m \u001b[0;32mimport\u001b[0m \u001b[0mpandas\u001b[0m \u001b[0;32mas\u001b[0m \u001b[0mpd\u001b[0m\u001b[0;34m\u001b[0m\u001b[0;34m\u001b[0m\u001b[0m\n\u001b[1;32m      3\u001b[0m \u001b[0;32mimport\u001b[0m \u001b[0mnumpy\u001b[0m \u001b[0;32mas\u001b[0m \u001b[0mnp\u001b[0m\u001b[0;34m\u001b[0m\u001b[0;34m\u001b[0m\u001b[0m\n\u001b[1;32m      4\u001b[0m \u001b[0;32mimport\u001b[0m \u001b[0mre\u001b[0m\u001b[0;34m\u001b[0m\u001b[0;34m\u001b[0m\u001b[0m\n",
      "\u001b[0;31mModuleNotFoundError\u001b[0m: No module named 'datapipeline'"
     ]
    }
   ],
   "source": [
    "from datapipeline import pipeline\n",
    "import pandas as pd\n",
    "import numpy as np\n",
    "import re"
   ]
  },
  {
   "cell_type": "markdown",
   "metadata": {},
   "source": [
    "Load in data using our pipeline"
   ]
  },
  {
   "cell_type": "code",
   "execution_count": 1,
   "metadata": {},
   "outputs": [
    {
     "ename": "NameError",
     "evalue": "name 'pipeline' is not defined",
     "output_type": "error",
     "traceback": [
      "\u001b[0;31m---------------------------------------------------------------------------\u001b[0m",
      "\u001b[0;31mNameError\u001b[0m                                 Traceback (most recent call last)",
      "\u001b[0;32m<ipython-input-1-30b69788f32a>\u001b[0m in \u001b[0;36m<module>\u001b[0;34m\u001b[0m\n\u001b[0;32m----> 1\u001b[0;31m \u001b[0mpipe\u001b[0m \u001b[0;34m=\u001b[0m \u001b[0mpipeline\u001b[0m\u001b[0;34m(\u001b[0m\u001b[0;34m)\u001b[0m\u001b[0;34m\u001b[0m\u001b[0;34m\u001b[0m\u001b[0m\n\u001b[0m\u001b[1;32m      2\u001b[0m \u001b[0mdf\u001b[0m \u001b[0;34m=\u001b[0m \u001b[0mpipe\u001b[0m\u001b[0;34m.\u001b[0m\u001b[0mload_csv\u001b[0m\u001b[0;34m(\u001b[0m\u001b[0;34m'posts_2019_all.csv'\u001b[0m\u001b[0;34m)\u001b[0m\u001b[0;34m\u001b[0m\u001b[0;34m\u001b[0m\u001b[0m\n\u001b[1;32m      3\u001b[0m \u001b[0mdf\u001b[0m\u001b[0;34m.\u001b[0m\u001b[0mrename\u001b[0m\u001b[0;34m(\u001b[0m\u001b[0mcolumns\u001b[0m \u001b[0;34m=\u001b[0m\u001b[0;34m{\u001b[0m\u001b[0;34m'link_flair_css_class'\u001b[0m\u001b[0;34m:\u001b[0m \u001b[0;34m'type'\u001b[0m\u001b[0;34m}\u001b[0m\u001b[0;34m,\u001b[0m \u001b[0minplace\u001b[0m \u001b[0;34m=\u001b[0m \u001b[0;32mTrue\u001b[0m\u001b[0;34m)\u001b[0m\u001b[0;34m\u001b[0m\u001b[0;34m\u001b[0m\u001b[0m\n",
      "\u001b[0;31mNameError\u001b[0m: name 'pipeline' is not defined"
     ]
    }
   ],
   "source": [
    "pipe = pipeline()\n",
    "df = pipe.load_csv('posts_2019_all.csv')\n",
    "df.rename(columns ={'link_flair_css_class': 'type'}, inplace = True)"
   ]
  },
  {
   "cell_type": "code",
   "execution_count": 21,
   "metadata": {},
   "outputs": [
    {
     "name": "stdout",
     "output_type": "stream",
     "text": [
      "(236758, 10)\n"
     ]
    },
    {
     "data": {
      "text/html": [
       "<div>\n",
       "<style scoped>\n",
       "    .dataframe tbody tr th:only-of-type {\n",
       "        vertical-align: middle;\n",
       "    }\n",
       "\n",
       "    .dataframe tbody tr th {\n",
       "        vertical-align: top;\n",
       "    }\n",
       "\n",
       "    .dataframe thead th {\n",
       "        text-align: right;\n",
       "    }\n",
       "</style>\n",
       "<table border=\"1\" class=\"dataframe\">\n",
       "  <thead>\n",
       "    <tr style=\"text-align: right;\">\n",
       "      <th></th>\n",
       "      <th>created_utc</th>\n",
       "      <th>title</th>\n",
       "      <th>subreddit</th>\n",
       "      <th>author</th>\n",
       "      <th>num_comments</th>\n",
       "      <th>score</th>\n",
       "      <th>id</th>\n",
       "      <th>type</th>\n",
       "      <th>author_flair_css_class</th>\n",
       "      <th>original_title</th>\n",
       "    </tr>\n",
       "  </thead>\n",
       "  <tbody>\n",
       "    <tr>\n",
       "      <td>0</td>\n",
       "      <td>1546300891</td>\n",
       "      <td>Malik Monk with a FEROCIOUS Dunk! Announcer is...</td>\n",
       "      <td>nba</td>\n",
       "      <td>exc99</td>\n",
       "      <td>64</td>\n",
       "      <td>736</td>\n",
       "      <td>abcv10</td>\n",
       "      <td>highlights</td>\n",
       "      <td>Pistons1</td>\n",
       "      <td>Malik Monk with a FEROCIOUS Dunk! Announcer is...</td>\n",
       "    </tr>\n",
       "    <tr>\n",
       "      <td>1</td>\n",
       "      <td>1546301066</td>\n",
       "      <td>Spurs' Gay out vs. Celtics with injured wrist</td>\n",
       "      <td>nba</td>\n",
       "      <td>bornfromblue</td>\n",
       "      <td>12</td>\n",
       "      <td>11</td>\n",
       "      <td>abcvzx</td>\n",
       "      <td>None</td>\n",
       "      <td>NaN</td>\n",
       "      <td>Spurs' Gay out vs. Celtics with injured wrist</td>\n",
       "    </tr>\n",
       "    <tr>\n",
       "      <td>2</td>\n",
       "      <td>1546301178</td>\n",
       "      <td>Kemba Dances Around on The Hardwood!</td>\n",
       "      <td>nba</td>\n",
       "      <td>Kraze_F35</td>\n",
       "      <td>11</td>\n",
       "      <td>35</td>\n",
       "      <td>abcwm2</td>\n",
       "      <td>highlights</td>\n",
       "      <td>ChaHornets2</td>\n",
       "      <td>Kemba Dances Around on The Hardwood!</td>\n",
       "    </tr>\n",
       "    <tr>\n",
       "      <td>3</td>\n",
       "      <td>1546301267</td>\n",
       "      <td>What should a player have to do for an organis...</td>\n",
       "      <td>nba</td>\n",
       "      <td>Tr3ywayy</td>\n",
       "      <td>19</td>\n",
       "      <td>0</td>\n",
       "      <td>abcx3a</td>\n",
       "      <td>None</td>\n",
       "      <td>NaN</td>\n",
       "      <td>What should a player have to do for an organis...</td>\n",
       "    </tr>\n",
       "    <tr>\n",
       "      <td>4</td>\n",
       "      <td>1546301353</td>\n",
       "      <td>Malik Monk beats the buzzer going into halftime!</td>\n",
       "      <td>nba</td>\n",
       "      <td>Kraze_F35</td>\n",
       "      <td>3</td>\n",
       "      <td>31</td>\n",
       "      <td>abcxmd</td>\n",
       "      <td>highlights</td>\n",
       "      <td>ChaHornets2</td>\n",
       "      <td>Malik Monk beats the buzzer going into halftime!</td>\n",
       "    </tr>\n",
       "    <tr>\n",
       "      <td>...</td>\n",
       "      <td>...</td>\n",
       "      <td>...</td>\n",
       "      <td>...</td>\n",
       "      <td>...</td>\n",
       "      <td>...</td>\n",
       "      <td>...</td>\n",
       "      <td>...</td>\n",
       "      <td>...</td>\n",
       "      <td>...</td>\n",
       "      <td>...</td>\n",
       "    </tr>\n",
       "    <tr>\n",
       "      <td>95</td>\n",
       "      <td>1546308784</td>\n",
       "      <td>The San Antonio Spurs (21-17) defeat the Bosto...</td>\n",
       "      <td>nba</td>\n",
       "      <td>Jayveesac</td>\n",
       "      <td>436</td>\n",
       "      <td>1326</td>\n",
       "      <td>abdywy</td>\n",
       "      <td>postgamethread</td>\n",
       "      <td>Lakers1</td>\n",
       "      <td>[Post Game Thread] The San Antonio Spurs (21-1...</td>\n",
       "    </tr>\n",
       "    <tr>\n",
       "      <td>96</td>\n",
       "      <td>1546308836</td>\n",
       "      <td>Steven Adams is the most interesting man</td>\n",
       "      <td>nba</td>\n",
       "      <td>B4IFURU-18</td>\n",
       "      <td>0</td>\n",
       "      <td>1</td>\n",
       "      <td>abdz5c</td>\n",
       "      <td>None</td>\n",
       "      <td>NaN</td>\n",
       "      <td>Steven Adams is the most interesting man</td>\n",
       "    </tr>\n",
       "    <tr>\n",
       "      <td>97</td>\n",
       "      <td>1546308840</td>\n",
       "      <td>With less than 4 hours left in 2018, the San A...</td>\n",
       "      <td>nba</td>\n",
       "      <td>[deleted]</td>\n",
       "      <td>0</td>\n",
       "      <td>5</td>\n",
       "      <td>abdz5s</td>\n",
       "      <td>None</td>\n",
       "      <td>NaN</td>\n",
       "      <td>With less than 4 hours left in 2018, the San A...</td>\n",
       "    </tr>\n",
       "    <tr>\n",
       "      <td>98</td>\n",
       "      <td>1546308911</td>\n",
       "      <td>[MacMahon]:James Harden’s 25 free throws attem...</td>\n",
       "      <td>nba</td>\n",
       "      <td>bondom3417</td>\n",
       "      <td>11</td>\n",
       "      <td>10</td>\n",
       "      <td>abdzhi</td>\n",
       "      <td>news</td>\n",
       "      <td>NBA</td>\n",
       "      <td>[MacMahon]:James Harden’s 25 free throws attem...</td>\n",
       "    </tr>\n",
       "    <tr>\n",
       "      <td>99</td>\n",
       "      <td>1546309006</td>\n",
       "      <td>Gordon Hayward goes scoreless in 22 minutes. 0...</td>\n",
       "      <td>nba</td>\n",
       "      <td>MarcusNotSmart</td>\n",
       "      <td>397</td>\n",
       "      <td>1250</td>\n",
       "      <td>abdzwd</td>\n",
       "      <td>None</td>\n",
       "      <td>Celtics4</td>\n",
       "      <td>Gordon Hayward goes scoreless in 22 minutes. 0...</td>\n",
       "    </tr>\n",
       "  </tbody>\n",
       "</table>\n",
       "<p>100 rows × 10 columns</p>\n",
       "</div>"
      ],
      "text/plain": [
       "    created_utc                                              title subreddit  \\\n",
       "0    1546300891  Malik Monk with a FEROCIOUS Dunk! Announcer is...       nba   \n",
       "1    1546301066      Spurs' Gay out vs. Celtics with injured wrist       nba   \n",
       "2    1546301178               Kemba Dances Around on The Hardwood!       nba   \n",
       "3    1546301267  What should a player have to do for an organis...       nba   \n",
       "4    1546301353   Malik Monk beats the buzzer going into halftime!       nba   \n",
       "..          ...                                                ...       ...   \n",
       "95   1546308784  The San Antonio Spurs (21-17) defeat the Bosto...       nba   \n",
       "96   1546308836           Steven Adams is the most interesting man       nba   \n",
       "97   1546308840  With less than 4 hours left in 2018, the San A...       nba   \n",
       "98   1546308911  [MacMahon]:James Harden’s 25 free throws attem...       nba   \n",
       "99   1546309006  Gordon Hayward goes scoreless in 22 minutes. 0...       nba   \n",
       "\n",
       "            author  num_comments  score      id            type  \\\n",
       "0            exc99            64    736  abcv10      highlights   \n",
       "1     bornfromblue            12     11  abcvzx            None   \n",
       "2        Kraze_F35            11     35  abcwm2      highlights   \n",
       "3         Tr3ywayy            19      0  abcx3a            None   \n",
       "4        Kraze_F35             3     31  abcxmd      highlights   \n",
       "..             ...           ...    ...     ...             ...   \n",
       "95       Jayveesac           436   1326  abdywy  postgamethread   \n",
       "96      B4IFURU-18             0      1  abdz5c            None   \n",
       "97       [deleted]             0      5  abdz5s            None   \n",
       "98      bondom3417            11     10  abdzhi            news   \n",
       "99  MarcusNotSmart           397   1250  abdzwd            None   \n",
       "\n",
       "   author_flair_css_class                                     original_title  \n",
       "0                Pistons1  Malik Monk with a FEROCIOUS Dunk! Announcer is...  \n",
       "1                     NaN      Spurs' Gay out vs. Celtics with injured wrist  \n",
       "2             ChaHornets2               Kemba Dances Around on The Hardwood!  \n",
       "3                     NaN  What should a player have to do for an organis...  \n",
       "4             ChaHornets2   Malik Monk beats the buzzer going into halftime!  \n",
       "..                    ...                                                ...  \n",
       "95                Lakers1  [Post Game Thread] The San Antonio Spurs (21-1...  \n",
       "96                    NaN           Steven Adams is the most interesting man  \n",
       "97                    NaN  With less than 4 hours left in 2018, the San A...  \n",
       "98                    NBA  [MacMahon]:James Harden’s 25 free throws attem...  \n",
       "99               Celtics4  Gordon Hayward goes scoreless in 22 minutes. 0...  \n",
       "\n",
       "[100 rows x 10 columns]"
      ]
     },
     "execution_count": 21,
     "metadata": {},
     "output_type": "execute_result"
    }
   ],
   "source": [
    "print(df.shape)\n",
    "df.head(100)"
   ]
  },
  {
   "cell_type": "code",
   "execution_count": 28,
   "metadata": {},
   "outputs": [
    {
     "data": {
      "text/plain": [
       "array(['highlights', 'None', 'gamethread', 'postgamethread', 'news',\n",
       "       'discussion', 'miscmedia', 'rostermoves', 'index', 'spoilers',\n",
       "       'rnba', 'ama', 'trashtalk', 'shitpost', 'meta', 'paywall'],\n",
       "      dtype=object)"
      ]
     },
     "execution_count": 28,
     "metadata": {},
     "output_type": "execute_result"
    }
   ],
   "source": [
    "df['type'].replace(np.nan, 'None', inplace = True)\n",
    "post_types = df['type'].unique()\n",
    "post_types"
   ]
  },
  {
   "cell_type": "code",
   "execution_count": 29,
   "metadata": {},
   "outputs": [
    {
     "name": "stdout",
     "output_type": "stream",
     "text": [
      "Type: highlights       number of posts: 151290\n",
      "Type: None             number of posts: 1843542\n",
      "Type: gamethread       number of posts: 9135\n",
      "Type: postgamethread   number of posts: 11169\n",
      "Type: news             number of posts: 61110\n",
      "Type: discussion       number of posts: 12834\n",
      "Type: miscmedia        number of posts: 7623\n",
      "Type: rostermoves      number of posts: 20403\n",
      "Type: index            number of posts: 1773\n",
      "Type: spoilers         number of posts: 10341\n",
      "Type: rnba             number of posts: 792\n",
      "Type: ama              number of posts: 45\n",
      "Type: trashtalk        number of posts: 45\n",
      "Type: shitpost         number of posts: 9\n",
      "Type: meta             number of posts: 9\n",
      "Type: paywall          number of posts: 702\n"
     ]
    }
   ],
   "source": [
    "for type in post_types:\n",
    "    n = df[df['type'] == type].size\n",
    "    print('Type: {0:15}  number of posts: {1}'.format(type, n))"
   ]
  },
  {
   "cell_type": "code",
   "execution_count": 30,
   "metadata": {},
   "outputs": [
    {
     "data": {
      "text/plain": [
       "236534    [Highlight] Jokic with the amazing tap pass to...\n",
       "236541    Steve Francise Mic'd Up Highlights 2001 Rookie...\n",
       "236542    [Highlight] Josh Okogie hits the contested tri...\n",
       "236545    Rod Strickland with a smooth behind-the-back s...\n",
       "236546                           Jokic highlights vs Angola\n",
       "236548    [Highlight] Josh Okogie with the beautiful fee...\n",
       "236552    Dell Curry fakes out Steve Kerr and knocks dow...\n",
       "236561    [Highlights] All the plays from the insane fin...\n",
       "236563    Heissler Guillent from Steph Curry range in Ve...\n",
       "236564    Iman Shumpert and J.R. Smith with them double ...\n",
       "236580     Highlights of Barkley's 48/10/15 WCF game (1993)\n",
       "236583    Uncle Drew teaches an Youngblood the meaning o...\n",
       "236592    Charles Barkley &amp; Muggsy Bogues prank J.R ...\n",
       "236611    Giannis Antetokounmpo Full Highlights Bucks vs...\n",
       "236620    iman shumpert and JR smith baked after winning...\n",
       "236621              iman shumpert and JR smith baked on GMA\n",
       "236630                           Doncic blocks LeBron twice\n",
       "236646                 Bol Bol making Von Miller look small\n",
       "236655        Jaylen Brown with the Al Horford-esque flinch\n",
       "236661    [Highlights] Crazy Giannis highlight compilati...\n",
       "236662    Jordan Bell with the most predictable missed w...\n",
       "236677    Stephen A Smith talks about his 2003 ESPN audi...\n",
       "236691    Full Jokic Highlights in Serbia Game (more gre...\n",
       "236705    Rookie Patrick McCaw sings at the rookie talen...\n",
       "236708    Rookie Patrick McCaw attempts to sing at the W...\n",
       "236714           The Bahama Wolves playing beach volleyball\n",
       "236733    Jonathan Isaac Defensive Highlights - 2018-19 ...\n",
       "236741    Michael Jordan's last shot as a Chicago Bull w...\n",
       "236743    Hamed Haddadi Full Highlights 2019.08.31 Iran ...\n",
       "236744    [Highlights] Michael Eric (8 points) in NBA D-...\n",
       "Name: title, dtype: object"
      ]
     },
     "execution_count": 30,
     "metadata": {},
     "output_type": "execute_result"
    }
   ],
   "source": [
    "df['title'][df['type'] == 'highlights'].tail(30)\n"
   ]
  },
  {
   "cell_type": "markdown",
   "metadata": {},
   "source": []
  },
  {
   "cell_type": "code",
   "execution_count": 31,
   "metadata": {},
   "outputs": [
    {
     "data": {
      "text/plain": [
       "11        GAME THREAD: Dallas Mavericks (17-18) @ Oklaho...\n",
       "14        GAME THREAD: Memphis Grizzlies (18-17) @ Houst...\n",
       "25        GAME THREAD: Minnesota Timberwolves (17-19) @ ...\n",
       "75        GAME THREAD: Golden State Warriors (24-13) @ P...\n",
       "586       GAME THREAD: Utah Jazz (18-19) @ Toronto Rapto...\n",
       "                                ...                        \n",
       "236517              GAME THREAD: Russia v Nigeria (Group B)\n",
       "236556           GAME THREAD: Philippines v Italy (Group D)\n",
       "236566         GAME THREAD: Cote d'Ivoire v China (Group A)\n",
       "236568             GAME THREAD: Argentina v Korea (Group B)\n",
       "236569               GAME THREAD: Spain v Tunisia (Group C)\n",
       "Name: title, Length: 1015, dtype: object"
      ]
     },
     "execution_count": 31,
     "metadata": {},
     "output_type": "execute_result"
    }
   ],
   "source": [
    "df['title'][df['type'] == 'gamethread']"
   ]
  },
  {
   "cell_type": "markdown",
   "metadata": {},
   "source": [
    "#### We should probably take '[Highlight] and 'GAME THREAD' out of the post titles as to not make things too easy to classify\n"
   ]
  },
  {
   "cell_type": "code",
   "execution_count": 33,
   "metadata": {},
   "outputs": [],
   "source": [
    "df = pipe.remove_type_tags_in_title(df)"
   ]
  },
  {
   "cell_type": "code",
   "execution_count": 34,
   "metadata": {},
   "outputs": [
    {
     "data": {
      "text/plain": [
       "236534    Jokic with the amazing tap pass to Marjanovic ...\n",
       "236541    Steve Francise Mic'd Up Highlights 2001 Rookie...\n",
       "236542               Josh Okogie hits the contested triple!\n",
       "236545    Rod Strickland with a smooth behind-the-back s...\n",
       "236546                           Jokic highlights vs Angola\n",
       "236548    Josh Okogie with the beautiful feed to Chimezi...\n",
       "236552    Dell Curry fakes out Steve Kerr and knocks dow...\n",
       "236561    All the plays from the insane final minute in ...\n",
       "236563    Heissler Guillent from Steph Curry range in Ve...\n",
       "236564    Iman Shumpert and J.R. Smith with them double ...\n",
       "236580     Highlights of Barkley's 48/10/15 WCF game (1993)\n",
       "236583    Uncle Drew teaches an Youngblood the meaning o...\n",
       "236592    Charles Barkley &amp; Muggsy Bogues prank J.R ...\n",
       "236611    Giannis Antetokounmpo Full Highlights Bucks vs...\n",
       "236620    iman shumpert and JR smith baked after winning...\n",
       "236621              iman shumpert and JR smith baked on GMA\n",
       "236630                           Doncic blocks LeBron twice\n",
       "236646                 Bol Bol making Von Miller look small\n",
       "236655        Jaylen Brown with the Al Horford-esque flinch\n",
       "236661    Crazy Giannis highlight compilation from FIBA ...\n",
       "236662    Jordan Bell with the most predictable missed w...\n",
       "236677    Stephen A Smith talks about his 2003 ESPN audi...\n",
       "236691    Full Jokic Highlights in Serbia Game (more gre...\n",
       "236705    Rookie Patrick McCaw sings at the rookie talen...\n",
       "236708    Rookie Patrick McCaw attempts to sing at the W...\n",
       "236714           The Bahama Wolves playing beach volleyball\n",
       "236733    Jonathan Isaac Defensive Highlights - 2018-19 ...\n",
       "236741    Michael Jordan's last shot as a Chicago Bull w...\n",
       "236743    Hamed Haddadi Full Highlights 2019.08.31 Iran ...\n",
       "236744    Michael Eric (8 points) in NBA D-League All-St...\n",
       "Name: title, dtype: object"
      ]
     },
     "execution_count": 34,
     "metadata": {},
     "output_type": "execute_result"
    }
   ],
   "source": [
    "df['title'][df['type'] == 'highlights'].tail(30)"
   ]
  },
  {
   "cell_type": "code",
   "execution_count": 35,
   "metadata": {},
   "outputs": [
    {
     "data": {
      "text/plain": [
       "11        Dallas Mavericks (17-18) @ Oklahoma City Thund...\n",
       "14        Memphis Grizzlies (18-17) @ Houston Rockets (2...\n",
       "25        Minnesota Timberwolves (17-19) @ New Orleans P...\n",
       "75        Golden State Warriors (24-13) @ Phoenix Suns (...\n",
       "586       Utah Jazz (18-19) @ Toronto Raptors (27-11) - ...\n",
       "                                ...                        \n",
       "236517                           Russia v Nigeria (Group B)\n",
       "236556                        Philippines v Italy (Group D)\n",
       "236566                      Cote d'Ivoire v China (Group A)\n",
       "236568                          Argentina v Korea (Group B)\n",
       "236569                            Spain v Tunisia (Group C)\n",
       "Name: title, Length: 1015, dtype: object"
      ]
     },
     "execution_count": 35,
     "metadata": {},
     "output_type": "execute_result"
    }
   ],
   "source": [
    "df['title'][df['type'] == 'gamethread']"
   ]
  },
  {
   "cell_type": "code",
   "execution_count": 38,
   "metadata": {},
   "outputs": [
    {
     "name": "stdout",
     "output_type": "stream",
     "text": [
      "Saving to:  ~/Galvanize/Projects/data/Capstone2/posts_2019_all_cleaned.csv\n"
     ]
    }
   ],
   "source": [
    "save_name = 'posts_2019_all_cleaned.csv'\n",
    "pipe.save_csv(df, save_name)"
   ]
  },
  {
   "cell_type": "code",
   "execution_count": null,
   "metadata": {},
   "outputs": [],
   "source": []
  },
  {
   "cell_type": "code",
   "execution_count": null,
   "metadata": {},
   "outputs": [],
   "source": []
  }
 ],
 "metadata": {
  "file_extension": ".py",
  "kernelspec": {
   "display_name": "Python 3",
   "language": "python",
   "name": "python3"
  },
  "language_info": {
   "codemirror_mode": {
    "name": "ipython",
    "version": 3
   },
   "file_extension": ".py",
   "mimetype": "text/x-python",
   "name": "python",
   "nbconvert_exporter": "python",
   "pygments_lexer": "ipython3",
   "version": "3.7.3"
  },
  "mimetype": "text/x-python",
  "name": "python",
  "npconvert_exporter": "python",
  "pygments_lexer": "ipython3",
  "version": 3
 },
 "nbformat": 4,
 "nbformat_minor": 2
}
